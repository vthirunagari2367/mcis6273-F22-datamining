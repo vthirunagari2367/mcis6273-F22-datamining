{
 "cells": [
  {
   "cell_type": "markdown",
   "metadata": {},
   "source": [
    "# importing all the libraries"
   ]
  },
  {
   "cell_type": "code",
   "execution_count": 1,
   "metadata": {},
   "outputs": [],
   "source": [
    "import requests\n",
    "from zipfile import ZipFile\n",
    "import os\n",
    "import shutil\n",
    "from glob import glob\n",
    "import pandas as pd\n",
    "import matplotlib.pyplot as plt\n",
    "import numpy as np\n",
    "from sklearn import preprocessing\n",
    "from sklearn.metrics.pairwise import euclidean_distances\n",
    "import numpy as np\n",
    "from sklearn.decomposition import PCA"
   ]
  },
  {
   "cell_type": "markdown",
   "metadata": {},
   "source": [
    "# Downloading all the data using request"
   ]
  },
  {
   "cell_type": "code",
   "execution_count": null,
   "metadata": {},
   "outputs": [],
   "source": [
    "try:\n",
    "    os.mkdir(r'data')\n",
    "    os.mkdir(r'accident_all_years')\n",
    "except:\n",
    "    pass\n",
    "for year_all in range(1975,2025,5):\n",
    "    url_download = r'https://static.nhtsa.gov/nhtsa/downloads/FARS/'+str(year_all)+'/National/'+'FARS'+str(year_all)+'NationalCSV.zip'\n",
    "    r = requests.get(url_download)\n",
    "    output_file = str(year_all)+'.zip'\n",
    "    with open(output_file, 'wb') as f:\n",
    "        f.write(r.content)\n",
    "    zip_file = ZipFile(str(year_all)+'.zip')\n",
    "    if not os.path.exists('data/'+str(year_all)):\n",
    "        os.mkdir('data/'+str(year_all))\n",
    "    zip_file.extractall('data/'+str(year_all))\n",
    "    shutil.copy('data/'+str(year_all)+'/ACCIDENT.CSV', 'accident_all_years/'+str(year_all)+'_accident.csv')"
   ]
  },
  {
   "cell_type": "code",
   "execution_count": null,
   "metadata": {},
   "outputs": [],
   "source": [
    "dataset_all=[]\n",
    "for i in glob('accident_all_years/*.csv'):\n",
    "    data=pd.read_csv(i,encoding='unicode_escape')\n",
    "    dataset_all.append(data)\n",
    "all_data=pd.concat(dataset_all)"
   ]
  },
  {
   "cell_type": "markdown",
   "metadata": {},
   "source": [
    "# Printing all the fatal rates"
   ]
  },
  {
   "cell_type": "code",
   "execution_count": null,
   "metadata": {},
   "outputs": [],
   "source": [
    "print(\"percentage of fatal accidents is :\",round(len(all_data[all_data['FATALS']>=1])/len(all_data)*100,6))\n",
    "print(\"Total number of fatal accidents are: \",len(all_data[all_data['FATALS']>=1]))\n",
    "print(\"Total number of people involved are : \",sum(all_data.loc[all_data['PERSONS'],'PERSONS']))\n",
    "print(\"Proportion of accidents occurred between 9pm and 4am is:\",(len(all_data.loc[all_data.HOUR>=21,:])+len(all_data.loc[all_data.HOUR<=4,:]))/len(all_data))\n",
    "print(\"Proportion of accident when weather was snowy are: \",len(all_data.loc[all_data['WEATHER']==4,:])/len(all_data))"
   ]
  },
  {
   "cell_type": "markdown",
   "metadata": {},
   "source": [
    "#  Ploting data"
   ]
  },
  {
   "cell_type": "code",
   "execution_count": 7,
   "metadata": {},
   "outputs": [
    {
     "data": {
      "image/png": "[encoded data removed]",
      "text/plain": [
       "<Figure size 432x288 with 1 Axes>"
      ]
     },
     "metadata": {
      "needs_background": "light"
     },
     "output_type": "display_data"
    }
   ],
   "source": [
    "all_data_year=all_data.groupby('YEAR')['FATALS'].sum().reset_index()\n",
    "all_data_year=all_data_year[all_data_year.YEAR!=99]\n",
    "plt.plot(all_data_year['YEAR'].apply(lambda x:str(x)),all_data_year['FATALS'])  # Plot the chart\n",
    "plt.show() "
   ]
  },
  {
   "cell_type": "code",
   "execution_count": 8,
   "metadata": {},
   "outputs": [
    {
     "name": "stdout",
     "output_type": "stream",
     "text": [
      "By 1975, top states are:\n",
      "STATE\n",
      "11      412\n",
      "44      773\n",
      "2       799\n",
      "50      839\n",
      "38      972\n",
      "10     1161\n",
      "15     1222\n",
      "33     1397\n",
      "56     1496\n",
      "46     1528\n",
      "23     1760\n",
      "30     2185\n",
      "16     2331\n",
      "31     2487\n",
      "49     2759\n",
      "32     2979\n",
      "9      3366\n",
      "54     3449\n",
      "35     4099\n",
      "20     4160\n",
      "19     4205\n",
      "25     4730\n",
      "41     4752\n",
      "27     5225\n",
      "5      5496\n",
      "8      5685\n",
      "24     5799\n",
      "53     6329\n",
      "40     6614\n",
      "55     6868\n",
      "28     6937\n",
      "34     7321\n",
      "21     7536\n",
      "51     8312\n",
      "18     8454\n",
      "22     8456\n",
      "45     8799\n",
      "4      8831\n",
      "1      8865\n",
      "29     9528\n",
      "47    10866\n",
      "26    12397\n",
      "17    13028\n",
      "39    13039\n",
      "37    13165\n",
      "13    13835\n",
      "42    13993\n",
      "36    14939\n",
      "12    27039\n",
      "48    32333\n",
      "6     39574\n",
      "Name: FATALS, dtype: int64\n"
     ]
    }
   ],
   "source": [
    "len(all_data[(all_data['FATALS']>=1)&(all_data['DRUNK_DR']==1)])\n",
    "subset_all=all_data[all_data.DRUNK_DR>=1 & (all_data.YEAR==75) ]\n",
    "print('By 1975, top states are:')\n",
    "print(subset_all.groupby('STATE')['FATALS'].sum().sort_values())"
   ]
  },
  {
   "cell_type": "code",
   "execution_count": 9,
   "metadata": {},
   "outputs": [
    {
     "name": "stdout",
     "output_type": "stream",
     "text": [
      "By 1990, top states are:\n",
      "STATE\n",
      "11      21\n",
      "2       42\n",
      "44      45\n",
      "50      48\n",
      "38      52\n",
      "33      60\n",
      "49      66\n",
      "56      70\n",
      "10      70\n",
      "46      71\n",
      "15      80\n",
      "23      91\n",
      "16      93\n",
      "31      98\n",
      "30     119\n",
      "32     159\n",
      "9      168\n",
      "28     172\n",
      "20     173\n",
      "19     201\n",
      "54     208\n",
      "27     228\n",
      "25     231\n",
      "24     231\n",
      "8      232\n",
      "41     238\n",
      "40     245\n",
      "35     252\n",
      "34     277\n",
      "4      313\n",
      "55     336\n",
      "21     337\n",
      "45     348\n",
      "29     420\n",
      "22     425\n",
      "18     425\n",
      "5      426\n",
      "1      432\n",
      "53     457\n",
      "51     475\n",
      "39     491\n",
      "47     529\n",
      "13     606\n",
      "37     616\n",
      "17     635\n",
      "36     660\n",
      "42     692\n",
      "26     698\n",
      "12    1230\n",
      "48    1450\n",
      "6     2237\n",
      "Name: FATALS, dtype: int64\n",
      "[0.98026298 0.01973702]\n"
     ]
    }
   ],
   "source": [
    "print('By 1990, top states are:')\n",
    "subset_all=all_data[(all_data.DRUNK_DR>=1) & (all_data.YEAR==90) ]\n",
    "print(subset_all.groupby('STATE')['FATALS'].sum().sort_values())\n",
    "columns=['STATE', 'MONTH', 'DAY', 'YEAR', 'HOUR', 'PERSONS', 'MAN_COLL', 'LGT_COND', 'WEATHER', 'SCH_BUS', 'FATALS',\n",
    "'DAY_WEEK', 'DRUNK_DR']\n",
    "subset=all_data[columns]\n",
    "subset=subset.dropna()\n",
    "subset=subset[0:5000]\n",
    "normalized_arr = preprocessing.normalize(subset)\n",
    "distamces=euclidean_distances(normalized_arr,normalized_arr)\n",
    "random_rows=pd.DataFrame(distamces)\n",
    "random_rows.sort_values(by=0).loc[:,0]\n",
    "random_rows.sort_values(by=1).loc[:,1]\n",
    "X=all_data_year\n",
    "pca = PCA()\n",
    "pca.fit(X)\n",
    "print(pca.explained_variance_ratio_)"
   ]
  }
 ],
 "metadata": {
  "kernelspec": {
   "display_name": "Python 3 (ipykernel)",
   "language": "python",
   "name": "python3"
  },
  "language_info": {
   "codemirror_mode": {
    "name": "ipython",
    "version": 3
   },
   "file_extension": ".py",
   "mimetype": "text/x-python",
   "name": "python",
   "nbconvert_exporter": "python",
   "pygments_lexer": "ipython3",
   "version": "3.9.12"
  }
 },
 "nbformat": 4,
 "nbformat_minor": 4
}
